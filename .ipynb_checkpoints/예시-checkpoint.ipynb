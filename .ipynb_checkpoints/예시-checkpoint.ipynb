{
 "cells": [
  {
   "cell_type": "code",
   "execution_count": null,
   "id": "20f690a8-a4c5-4cc3-8953-220e2a1d0e85",
   "metadata": {},
   "outputs": [],
   "source": [
    "!pip install sentence-transformers\n"
   ]
  },
  {
   "cell_type": "code",
   "execution_count": 11,
   "id": "56747439-620d-4161-b306-286cf7af6bef",
   "metadata": {},
   "outputs": [
    {
     "name": "stdout",
     "output_type": "stream",
     "text": [
      "Requirement already satisfied: easyocr in c:\\users\\cyj85\\anaconda3\\lib\\site-packages (1.7.2)\n",
      "Requirement already satisfied: torch in c:\\users\\cyj85\\anaconda3\\lib\\site-packages (from easyocr) (2.7.0)\n",
      "Requirement already satisfied: torchvision>=0.5 in c:\\users\\cyj85\\anaconda3\\lib\\site-packages (from easyocr) (0.22.0)\n",
      "Requirement already satisfied: opencv-python-headless in c:\\users\\cyj85\\anaconda3\\lib\\site-packages (from easyocr) (4.11.0.86)\n",
      "Requirement already satisfied: scipy in c:\\users\\cyj85\\anaconda3\\lib\\site-packages (from easyocr) (1.11.4)\n",
      "Requirement already satisfied: numpy in c:\\users\\cyj85\\anaconda3\\lib\\site-packages (from easyocr) (1.26.4)\n",
      "Requirement already satisfied: Pillow in c:\\users\\cyj85\\anaconda3\\lib\\site-packages (from easyocr) (10.2.0)\n",
      "Requirement already satisfied: scikit-image in c:\\users\\cyj85\\anaconda3\\lib\\site-packages (from easyocr) (0.22.0)\n",
      "Requirement already satisfied: python-bidi in c:\\users\\cyj85\\anaconda3\\lib\\site-packages (from easyocr) (0.6.6)\n",
      "Requirement already satisfied: PyYAML in c:\\users\\cyj85\\anaconda3\\lib\\site-packages (from easyocr) (6.0.1)\n",
      "Requirement already satisfied: Shapely in c:\\users\\cyj85\\anaconda3\\lib\\site-packages (from easyocr) (2.1.0)\n",
      "Requirement already satisfied: pyclipper in c:\\users\\cyj85\\anaconda3\\lib\\site-packages (from easyocr) (1.3.0.post6)\n",
      "Requirement already satisfied: ninja in c:\\users\\cyj85\\anaconda3\\lib\\site-packages (from easyocr) (1.11.1.4)\n",
      "Requirement already satisfied: filelock in c:\\users\\cyj85\\anaconda3\\lib\\site-packages (from torch->easyocr) (3.13.1)\n",
      "Requirement already satisfied: typing-extensions>=4.10.0 in c:\\users\\cyj85\\anaconda3\\lib\\site-packages (from torch->easyocr) (4.13.2)\n",
      "Requirement already satisfied: sympy>=1.13.3 in c:\\users\\cyj85\\anaconda3\\lib\\site-packages (from torch->easyocr) (1.14.0)\n",
      "Requirement already satisfied: networkx in c:\\users\\cyj85\\anaconda3\\lib\\site-packages (from torch->easyocr) (3.1)\n",
      "Requirement already satisfied: jinja2 in c:\\users\\cyj85\\anaconda3\\lib\\site-packages (from torch->easyocr) (3.1.3)\n",
      "Requirement already satisfied: fsspec in c:\\users\\cyj85\\anaconda3\\lib\\site-packages (from torch->easyocr) (2023.10.0)\n",
      "Requirement already satisfied: imageio>=2.27 in c:\\users\\cyj85\\anaconda3\\lib\\site-packages (from scikit-image->easyocr) (2.33.1)\n",
      "Requirement already satisfied: tifffile>=2022.8.12 in c:\\users\\cyj85\\anaconda3\\lib\\site-packages (from scikit-image->easyocr) (2023.4.12)\n",
      "Requirement already satisfied: packaging>=21 in c:\\users\\cyj85\\anaconda3\\lib\\site-packages (from scikit-image->easyocr) (23.1)\n",
      "Requirement already satisfied: lazy_loader>=0.3 in c:\\users\\cyj85\\anaconda3\\lib\\site-packages (from scikit-image->easyocr) (0.3)\n",
      "Requirement already satisfied: mpmath<1.4,>=1.1.0 in c:\\users\\cyj85\\anaconda3\\lib\\site-packages (from sympy>=1.13.3->torch->easyocr) (1.3.0)\n",
      "Requirement already satisfied: MarkupSafe>=2.0 in c:\\users\\cyj85\\anaconda3\\lib\\site-packages (from jinja2->torch->easyocr) (2.1.3)\n"
     ]
    }
   ],
   "source": [
    "!pip install easyocr\n"
   ]
  },
  {
   "cell_type": "code",
   "execution_count": 2,
   "id": "23aaf51f-5a31-43e8-ab99-a0f0ae4b20dd",
   "metadata": {},
   "outputs": [
    {
     "name": "stdout",
     "output_type": "stream",
     "text": [
      "Collecting git+https://github.com/ssut/py-hanspell.git\n",
      "  Cloning https://github.com/ssut/py-hanspell.git to c:\\users\\cyj85\\appdata\\local\\temp\\pip-req-build-a4q3mxyg\n",
      "  Resolved https://github.com/ssut/py-hanspell.git to commit fdc6ca50c19f1c85971437a072d89d4e5ce024b8\n",
      "  Preparing metadata (setup.py): started\n",
      "  Preparing metadata (setup.py): finished with status 'done'\n",
      "Requirement already satisfied: requests in c:\\users\\cyj85\\anaconda3\\lib\\site-packages (from py-hanspell==1.1) (2.31.0)\n",
      "Requirement already satisfied: charset-normalizer<4,>=2 in c:\\users\\cyj85\\anaconda3\\lib\\site-packages (from requests->py-hanspell==1.1) (2.0.4)\n",
      "Requirement already satisfied: idna<4,>=2.5 in c:\\users\\cyj85\\anaconda3\\lib\\site-packages (from requests->py-hanspell==1.1) (3.4)\n",
      "Requirement already satisfied: urllib3<3,>=1.21.1 in c:\\users\\cyj85\\anaconda3\\lib\\site-packages (from requests->py-hanspell==1.1) (2.0.7)\n",
      "Requirement already satisfied: certifi>=2017.4.17 in c:\\users\\cyj85\\anaconda3\\lib\\site-packages (from requests->py-hanspell==1.1) (2024.8.30)\n",
      "Building wheels for collected packages: py-hanspell\n",
      "  Building wheel for py-hanspell (setup.py): started\n",
      "  Building wheel for py-hanspell (setup.py): finished with status 'done'\n",
      "  Created wheel for py-hanspell: filename=py_hanspell-1.1-py3-none-any.whl size=4859 sha256=74b5aa58e1f8e63a1b782c5151629ca1b8a3958523ff2dc56d973e9b7c0796a7\n",
      "  Stored in directory: C:\\Users\\cyj85\\AppData\\Local\\Temp\\pip-ephem-wheel-cache-f8eql3gk\\wheels\\18\\0f\\39\\d0e3972de3368ba3ab62817cd7b17a74123414afd774ce604b\n",
      "Successfully built py-hanspell\n",
      "Installing collected packages: py-hanspell\n",
      "Successfully installed py-hanspell-1.1\n"
     ]
    },
    {
     "name": "stderr",
     "output_type": "stream",
     "text": [
      "  Running command git clone --filter=blob:none --quiet https://github.com/ssut/py-hanspell.git 'C:\\Users\\cyj85\\AppData\\Local\\Temp\\pip-req-build-a4q3mxyg'\n"
     ]
    }
   ],
   "source": [
    "!pip install git+https://github.com/ssut/py-hanspell.git\n"
   ]
  },
  {
   "cell_type": "code",
   "execution_count": 1,
   "id": "905f9e8e-49ed-4a20-8614-6fb20c5156a2",
   "metadata": {},
   "outputs": [
    {
     "name": "stdout",
     "output_type": "stream",
     "text": [
      "git version 2.46.0.windows.1\n"
     ]
    }
   ],
   "source": [
    "!git --version"
   ]
  },
  {
   "cell_type": "code",
   "execution_count": 8,
   "id": "8782c267-06db-4d04-9544-2f125c6aac24",
   "metadata": {},
   "outputs": [
    {
     "name": "stdout",
     "output_type": "stream",
     "text": [
      "✅ 복사 완료: 31.png → 3000.png\n"
     ]
    }
   ],
   "source": [
    "import shutil\n",
    "\n",
    "shutil.copyfile(\"slide_images/3000/31.png\", \"slide_images/3000/3000.png\")\n",
    "print(\"✅ 복사 완료: 31.png → 3000.png\")\n"
   ]
  },
  {
   "cell_type": "code",
   "execution_count": null,
   "id": "80e1387a-9727-4c06-9238-91838e942b04",
   "metadata": {},
   "outputs": [],
   "source": [
    "import json\n",
    "import os\n",
    "import easyocr\n",
    "import numpy as np\n",
    "from hanspell import spell_checker\n",
    "from sentence_transformers import SentenceTransformer, util\n",
    "\n",
    "# 1. 슬라이드 설정\n",
    "slide_id = \"3000\"\n",
    "image_path = f\"slide_images/{slide_id}/{slide_id}.png\"\n",
    "\n",
    "# 2. OCR\n",
    "ocr_reader = easyocr.Reader(['ko', 'en'])\n",
    "ocr_result = ocr_reader.readtext(image_path, detail=0)\n",
    "ocr_text = \" \".join(ocr_result)\n",
    "\n",
    "# 3. 오타 자동 보정 (hanspell)\n",
    "def correct_ocr_text(text):\n",
    "    result = spell_checker.check(text)\n",
    "    return result.checked\n",
    "\n",
    "ocr_text = correct_ocr_text(ocr_text)\n",
    "\n",
    "# 4. 키워드 추출\n",
    "model = SentenceTransformer('distiluse-base-multilingual-cased-v1')\n",
    "\n",
    "def extract_keywords(text, top_n=5):\n",
    "    words = list(set(text.split()))\n",
    "    if not words:\n",
    "        return []\n",
    "    doc_embedding = model.encode([text], convert_to_tensor=True)\n",
    "    word_embeddings = model.encode(words, convert_to_tensor=True)\n",
    "    cosine_scores = util.cos_sim(doc_embedding, word_embeddings)[0]\n",
    "    top_results = np.argsort(-cosine_scores.cpu())[:top_n]\n",
    "    return [words[i] for i in top_results]\n",
    "\n",
    "keywords = extract_keywords(ocr_text)\n",
    "\n",
    "# 5. JSON 저장\n",
    "slide_data = [{\n",
    "    \"slide_id\": slide_id,\n",
    "    \"image_path\": image_path,\n",
    "    \"ocr_text\": ocr_text,\n",
    "    \"keywords\": keywords\n",
    "}]\n",
    "\n",
    "output_path = r\"C:\\Users\\cyj85\\ex_map\\slide_summary_dataset.json\"\n",
    "with open(output_path, \"w\", encoding=\"utf-8\") as f:\n",
    "    json.dump(slide_data, f, ensure_ascii=False, indent=2)\n",
    "\n",
    "print(\"✅ 저장 완료:\", output_path)\n"
   ]
  },
  {
   "cell_type": "code",
   "execution_count": null,
   "id": "1d2d0451-d3a4-4d58-9e49-f2e43d25ff8a",
   "metadata": {},
   "outputs": [],
   "source": [
    "from sentence_transformers import SentenceTransformer, util\n",
    "import numpy as np\n",
    "\n",
    "text = \"소켓은 네트워크 통신에서 클라이언트와 서버 간의 연결을 위한 프로토콜입니다. TCP 소켓은 신뢰성 있는 전송을 보장합니다.\"\n",
    "\n",
    "# 가벼운 모델로 교체\n",
    "model = SentenceTransformer('paraphrase-MiniLM-L6-v2')\n",
    "\n",
    "def extract_keywords(text, top_n=5):\n",
    "    words = list(set(text.split()))\n",
    "    if not words:\n",
    "        return []\n",
    "    doc_embedding = model.encode([text], convert_to_tensor=True)\n",
    "    word_embeddings = model.encode(words, convert_to_tensor=True)\n",
    "    cosine_scores = util.cos_sim(doc_embedding, word_embeddings)[0]\n",
    "    top_results = np.argsort(-cosine_scores.cpu())[:top_n]\n",
    "    return [words[i] for i in top_results]\n",
    "\n",
    "keywords = extract_keywords(text)\n",
    "print(\"🏷️ 추출된 키워드:\", keywords)\n"
   ]
  },
  {
   "cell_type": "code",
   "execution_count": null,
   "id": "dc35a553-200b-4e46-bfb8-abd565f0ec5e",
   "metadata": {},
   "outputs": [],
   "source": []
  }
 ],
 "metadata": {
  "kernelspec": {
   "display_name": "Python 3 (ipykernel)",
   "language": "python",
   "name": "python3"
  },
  "language_info": {
   "codemirror_mode": {
    "name": "ipython",
    "version": 3
   },
   "file_extension": ".py",
   "mimetype": "text/x-python",
   "name": "python",
   "nbconvert_exporter": "python",
   "pygments_lexer": "ipython3",
   "version": "3.11.7"
  }
 },
 "nbformat": 4,
 "nbformat_minor": 5
}
